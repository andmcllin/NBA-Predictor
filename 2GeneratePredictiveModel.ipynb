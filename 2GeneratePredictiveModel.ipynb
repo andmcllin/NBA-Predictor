{
 "cells": [
  {
   "cell_type": "code",
   "execution_count": 1,
   "metadata": {},
   "outputs": [],
   "source": [
    "from CreateNBAModel import createModel"
   ]
  },
  {
   "cell_type": "code",
   "execution_count": 2,
   "metadata": {},
   "outputs": [
    {
     "name": "stdout",
     "output_type": "stream",
     "text": [
      "Epoch 1/100\n",
      "83/83 [==============================] - 2s 5ms/step - loss: 0.6580 - accuracy: 0.6096 - val_loss: 0.6445 - val_accuracy: 0.6271\n",
      "Epoch 2/100\n",
      "83/83 [==============================] - 0s 3ms/step - loss: 0.6307 - accuracy: 0.6480 - val_loss: 0.6394 - val_accuracy: 0.6340\n",
      "Epoch 3/100\n",
      "83/83 [==============================] - 0s 4ms/step - loss: 0.6235 - accuracy: 0.6613 - val_loss: 0.6354 - val_accuracy: 0.6499\n",
      "Epoch 4/100\n",
      "83/83 [==============================] - 0s 3ms/step - loss: 0.6199 - accuracy: 0.6583 - val_loss: 0.6475 - val_accuracy: 0.6522\n",
      "Epoch 5/100\n",
      "83/83 [==============================] - 0s 3ms/step - loss: 0.6172 - accuracy: 0.6659 - val_loss: 0.6371 - val_accuracy: 0.6363\n",
      "Epoch 6/100\n",
      "83/83 [==============================] - 0s 4ms/step - loss: 0.6147 - accuracy: 0.6678 - val_loss: 0.6377 - val_accuracy: 0.6442\n",
      "Epoch 6: early stopping\n"
     ]
    }
   ],
   "source": [
    "createModel()"
   ]
  }
 ],
 "metadata": {
  "kernelspec": {
   "display_name": "Python 3",
   "language": "python",
   "name": "python3"
  },
  "language_info": {
   "codemirror_mode": {
    "name": "ipython",
    "version": 3
   },
   "file_extension": ".py",
   "mimetype": "text/x-python",
   "name": "python",
   "nbconvert_exporter": "python",
   "pygments_lexer": "ipython3",
   "version": "3.11.4"
  }
 },
 "nbformat": 4,
 "nbformat_minor": 2
}
