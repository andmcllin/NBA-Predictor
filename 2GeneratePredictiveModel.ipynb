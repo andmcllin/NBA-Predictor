{
 "cells": [
  {
   "cell_type": "code",
   "execution_count": 1,
   "metadata": {},
   "outputs": [],
   "source": [
    "from CreateNBAModel import createModel"
   ]
  },
  {
   "cell_type": "code",
   "execution_count": 2,
   "metadata": {},
   "outputs": [
    {
     "name": "stdout",
     "output_type": "stream",
     "text": [
      "Epoch 1/100\n",
      "83/83 [==============================] - 1s 4ms/step - loss: 0.6516 - accuracy: 0.6138 - val_loss: 0.6204 - val_accuracy: 0.6659\n",
      "Epoch 2/100\n",
      "83/83 [==============================] - 0s 2ms/step - loss: 0.6313 - accuracy: 0.6461 - val_loss: 0.6195 - val_accuracy: 0.6727\n",
      "Epoch 3/100\n",
      "83/83 [==============================] - 0s 2ms/step - loss: 0.6254 - accuracy: 0.6495 - val_loss: 0.6206 - val_accuracy: 0.6682\n",
      "Epoch 4/100\n",
      "83/83 [==============================] - 0s 2ms/step - loss: 0.6188 - accuracy: 0.6629 - val_loss: 0.6318 - val_accuracy: 0.6556\n",
      "Epoch 5/100\n",
      "83/83 [==============================] - 0s 2ms/step - loss: 0.6170 - accuracy: 0.6564 - val_loss: 0.6286 - val_accuracy: 0.6579\n",
      "Epoch 5: early stopping\n"
     ]
    }
   ],
   "source": [
    "createModel()"
   ]
  }
 ],
 "metadata": {
  "kernelspec": {
   "display_name": "Python 3",
   "language": "python",
   "name": "python3"
  },
  "language_info": {
   "codemirror_mode": {
    "name": "ipython",
    "version": 3
   },
   "file_extension": ".py",
   "mimetype": "text/x-python",
   "name": "python",
   "nbconvert_exporter": "python",
   "pygments_lexer": "ipython3",
   "version": "3.10.11"
  }
 },
 "nbformat": 4,
 "nbformat_minor": 2
}
