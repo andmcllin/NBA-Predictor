{
 "cells": [
  {
   "cell_type": "code",
   "execution_count": 11,
   "metadata": {},
   "outputs": [],
   "source": [
    "from CreateNBAModel import createModel"
   ]
  },
  {
   "cell_type": "code",
   "execution_count": 12,
   "metadata": {},
   "outputs": [
    {
     "name": "stdout",
     "output_type": "stream",
     "text": [
      "Epoch 1/100\n",
      "53/53 [==============================] - 1s 4ms/step - loss: 0.6593 - accuracy: 0.5983 - val_loss: 0.6436 - val_accuracy: 0.6331\n",
      "Epoch 2/100\n",
      "53/53 [==============================] - 0s 2ms/step - loss: 0.6345 - accuracy: 0.6421 - val_loss: 0.6274 - val_accuracy: 0.6601\n",
      "Epoch 3/100\n",
      "53/53 [==============================] - 0s 2ms/step - loss: 0.6238 - accuracy: 0.6373 - val_loss: 0.6226 - val_accuracy: 0.6691\n",
      "Epoch 4/100\n",
      "53/53 [==============================] - 0s 1ms/step - loss: 0.6210 - accuracy: 0.6547 - val_loss: 0.6233 - val_accuracy: 0.6691\n",
      "Epoch 5/100\n",
      "53/53 [==============================] - 0s 1ms/step - loss: 0.6179 - accuracy: 0.6541 - val_loss: 0.6249 - val_accuracy: 0.6583\n",
      "Epoch 6/100\n",
      "53/53 [==============================] - 0s 2ms/step - loss: 0.6189 - accuracy: 0.6541 - val_loss: 0.6197 - val_accuracy: 0.6583\n",
      "Epoch 7/100\n",
      "53/53 [==============================] - 0s 1ms/step - loss: 0.6099 - accuracy: 0.6613 - val_loss: 0.6226 - val_accuracy: 0.6529\n",
      "Epoch 8/100\n",
      "53/53 [==============================] - 0s 1ms/step - loss: 0.6057 - accuracy: 0.6745 - val_loss: 0.6208 - val_accuracy: 0.6691\n",
      "Epoch 9/100\n",
      "53/53 [==============================] - 0s 1ms/step - loss: 0.6024 - accuracy: 0.6817 - val_loss: 0.6277 - val_accuracy: 0.6547\n",
      "Epoch 9: early stopping\n"
     ]
    },
    {
     "data": {
      "text/plain": [
       "0"
      ]
     },
     "execution_count": 12,
     "metadata": {},
     "output_type": "execute_result"
    }
   ],
   "source": [
    "createModel()"
   ]
  }
 ],
 "metadata": {
  "kernelspec": {
   "display_name": "Python 3",
   "language": "python",
   "name": "python3"
  },
  "language_info": {
   "codemirror_mode": {
    "name": "ipython",
    "version": 3
   },
   "file_extension": ".py",
   "mimetype": "text/x-python",
   "name": "python",
   "nbconvert_exporter": "python",
   "pygments_lexer": "ipython3",
   "version": "3.10.11"
  }
 },
 "nbformat": 4,
 "nbformat_minor": 2
}
