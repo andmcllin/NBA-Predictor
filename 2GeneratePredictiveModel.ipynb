{
 "cells": [
  {
   "cell_type": "code",
   "execution_count": 1,
   "metadata": {},
   "outputs": [],
   "source": [
    "from CreateNBAModel import createModel"
   ]
  },
  {
   "cell_type": "code",
   "execution_count": 2,
   "metadata": {},
   "outputs": [
    {
     "name": "stdout",
     "output_type": "stream",
     "text": [
      "Epoch 1/100\n",
      "53/53 [==============================] - 1s 6ms/step - loss: 0.6784 - accuracy: 0.5935 - val_loss: 0.6562 - val_accuracy: 0.6241\n",
      "Epoch 2/100\n",
      "53/53 [==============================] - 0s 2ms/step - loss: 0.6375 - accuracy: 0.6421 - val_loss: 0.6404 - val_accuracy: 0.6439\n",
      "Epoch 3/100\n",
      "53/53 [==============================] - 0s 2ms/step - loss: 0.6260 - accuracy: 0.6541 - val_loss: 0.6382 - val_accuracy: 0.6439\n",
      "Epoch 4/100\n",
      "53/53 [==============================] - 0s 2ms/step - loss: 0.6239 - accuracy: 0.6565 - val_loss: 0.6319 - val_accuracy: 0.6619\n",
      "Epoch 5/100\n",
      "53/53 [==============================] - 0s 2ms/step - loss: 0.6197 - accuracy: 0.6607 - val_loss: 0.6302 - val_accuracy: 0.6529\n",
      "Epoch 6/100\n",
      "53/53 [==============================] - 0s 2ms/step - loss: 0.6130 - accuracy: 0.6643 - val_loss: 0.6346 - val_accuracy: 0.6385\n",
      "Epoch 7/100\n",
      "53/53 [==============================] - 0s 2ms/step - loss: 0.6108 - accuracy: 0.6607 - val_loss: 0.6418 - val_accuracy: 0.6313\n",
      "Epoch 8/100\n",
      "53/53 [==============================] - 0s 2ms/step - loss: 0.6036 - accuracy: 0.6781 - val_loss: 0.6485 - val_accuracy: 0.6133\n",
      "Epoch 8: early stopping\n"
     ]
    },
    {
     "data": {
      "text/plain": [
       "0"
      ]
     },
     "execution_count": 2,
     "metadata": {},
     "output_type": "execute_result"
    }
   ],
   "source": [
    "createModel()"
   ]
  }
 ],
 "metadata": {
  "kernelspec": {
   "display_name": "Python 3",
   "language": "python",
   "name": "python3"
  },
  "language_info": {
   "codemirror_mode": {
    "name": "ipython",
    "version": 3
   },
   "file_extension": ".py",
   "mimetype": "text/x-python",
   "name": "python",
   "nbconvert_exporter": "python",
   "pygments_lexer": "ipython3",
   "version": "3.10.11"
  }
 },
 "nbformat": 4,
 "nbformat_minor": 2
}
