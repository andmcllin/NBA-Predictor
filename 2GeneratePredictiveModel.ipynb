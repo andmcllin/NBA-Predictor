{
 "cells": [
  {
   "cell_type": "code",
   "execution_count": 3,
   "metadata": {},
   "outputs": [],
   "source": [
    "from CreateNBAModel import createModel"
   ]
  },
  {
   "cell_type": "code",
   "execution_count": 4,
   "metadata": {},
   "outputs": [
    {
     "name": "stdout",
     "output_type": "stream",
     "text": [
      "Epoch 1/100\n",
      "83/83 [==============================] - 1s 3ms/step - loss: 0.6566 - accuracy: 0.6062 - val_loss: 0.6464 - val_accuracy: 0.6306\n",
      "Epoch 2/100\n",
      "83/83 [==============================] - 0s 2ms/step - loss: 0.6332 - accuracy: 0.6518 - val_loss: 0.6443 - val_accuracy: 0.5941\n",
      "Epoch 3/100\n",
      "83/83 [==============================] - 0s 2ms/step - loss: 0.6259 - accuracy: 0.6617 - val_loss: 0.6425 - val_accuracy: 0.6100\n",
      "Epoch 4/100\n",
      "83/83 [==============================] - 0s 1ms/step - loss: 0.6238 - accuracy: 0.6591 - val_loss: 0.6441 - val_accuracy: 0.6032\n",
      "Epoch 5/100\n",
      "83/83 [==============================] - 0s 2ms/step - loss: 0.6207 - accuracy: 0.6648 - val_loss: 0.6424 - val_accuracy: 0.6192\n",
      "Epoch 6/100\n",
      "83/83 [==============================] - 0s 1ms/step - loss: 0.6173 - accuracy: 0.6686 - val_loss: 0.6431 - val_accuracy: 0.6340\n",
      "Epoch 7/100\n",
      "83/83 [==============================] - 0s 2ms/step - loss: 0.6163 - accuracy: 0.6670 - val_loss: 0.6400 - val_accuracy: 0.6283\n",
      "Epoch 8/100\n",
      "83/83 [==============================] - 0s 1ms/step - loss: 0.6113 - accuracy: 0.6750 - val_loss: 0.6410 - val_accuracy: 0.6249\n",
      "Epoch 9/100\n",
      "83/83 [==============================] - 0s 1ms/step - loss: 0.6114 - accuracy: 0.6769 - val_loss: 0.6428 - val_accuracy: 0.6306\n",
      "Epoch 10/100\n",
      "83/83 [==============================] - 0s 1ms/step - loss: 0.6073 - accuracy: 0.6811 - val_loss: 0.6489 - val_accuracy: 0.6226\n",
      "Epoch 10: early stopping\n"
     ]
    },
    {
     "data": {
      "text/plain": [
       "0"
      ]
     },
     "execution_count": 4,
     "metadata": {},
     "output_type": "execute_result"
    }
   ],
   "source": [
    "createModel()"
   ]
  }
 ],
 "metadata": {
  "kernelspec": {
   "display_name": "Python 3",
   "language": "python",
   "name": "python3"
  },
  "language_info": {
   "codemirror_mode": {
    "name": "ipython",
    "version": 3
   },
   "file_extension": ".py",
   "mimetype": "text/x-python",
   "name": "python",
   "nbconvert_exporter": "python",
   "pygments_lexer": "ipython3",
   "version": "3.10.11"
  }
 },
 "nbformat": 4,
 "nbformat_minor": 2
}
