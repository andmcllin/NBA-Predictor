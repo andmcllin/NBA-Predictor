{
 "cells": [
  {
   "cell_type": "code",
   "execution_count": 1,
   "metadata": {},
   "outputs": [],
   "source": [
    "from DailyNBAPredictions import makePredictions\n",
    "from datetime import date"
   ]
  },
  {
   "cell_type": "code",
   "execution_count": 2,
   "metadata": {},
   "outputs": [
    {
     "name": "stdout",
     "output_type": "stream",
     "text": [
      "1/1 [==============================] - 0s 116ms/step\n",
      "There is a 63.31% chance that the Philadelphia 76ers will defeat the Toronto Raptors. Philadelphia 76ers: -173\n",
      "There is a 44.14% chance that the New Orleans Pelicans will defeat the Detroit Pistons. New Orleans Pelicans: +127\n",
      "There is a 60.57% chance that the Utah Jazz will defeat the Orlando Magic. Utah Jazz: -154\n",
      "There is a 74.08% chance that the Phoenix Suns will defeat the San Antonio Spurs. Phoenix Suns: -286\n"
     ]
    }
   ],
   "source": [
    "makePredictions(date.today())"
   ]
  }
 ],
 "metadata": {
  "kernelspec": {
   "display_name": "Python 3",
   "language": "python",
   "name": "python3"
  },
  "language_info": {
   "codemirror_mode": {
    "name": "ipython",
    "version": 3
   },
   "file_extension": ".py",
   "mimetype": "text/x-python",
   "name": "python",
   "nbconvert_exporter": "python",
   "pygments_lexer": "ipython3",
   "version": "3.11.4"
  }
 },
 "nbformat": 4,
 "nbformat_minor": 2
}
