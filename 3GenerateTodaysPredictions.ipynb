{
 "cells": [
  {
   "cell_type": "code",
   "execution_count": 1,
   "metadata": {},
   "outputs": [],
   "source": [
    "from DailyNBAPredictions import makePredictions\n",
    "from datetime import date"
   ]
  },
  {
   "cell_type": "code",
   "execution_count": 2,
   "metadata": {},
   "outputs": [
    {
     "name": "stdout",
     "output_type": "stream",
     "text": [
      "1/1 [==============================] - 0s 95ms/step\n",
      "There is a 69.2% chance that the Detroit Pistons will defeat the Portland Trail Blazers. Detroit Pistons: -225\n",
      "There is a 47.16% chance that the Toronto Raptors will defeat the Milwaukee Bucks. Toronto Raptors: +112\n",
      "There is a 75.9% chance that the Atlanta Hawks will defeat the Washington Wizards. Atlanta Hawks: -315\n",
      "There is a 42.2% chance that the Boston Celtics will defeat the Indiana Pacers. Boston Celtics: +137\n",
      "There is a 37.63% chance that the Miami Heat will defeat the Brooklyn Nets. Miami Heat: +166\n",
      "There is a 61.76% chance that the New York Knicks will defeat the Cleveland Cavaliers. New York Knicks: -162\n",
      "There is a 69.93% chance that the Oklahoma City Thunder will defeat the New Orleans Pelicans. Oklahoma City Thunder: -233\n",
      "There is a 35.35% chance that the Houston Rockets will defeat the Charlotte Hornets. Houston Rockets: +183\n",
      "There is a 37.84% chance that the Minnesota Timberwolves will defeat the Denver Nuggets. Minnesota Timberwolves: +164\n",
      "There is a 70.23% chance that the Dallas Mavericks will defeat the Chicago Bulls. Dallas Mavericks: -236\n",
      "There is a 57.37% chance that the Utah Jazz will defeat the Memphis Grizzlies. Utah Jazz: -135\n",
      "There is a 69.95% chance that the Golden State Warriors will defeat the Sacramento Kings. Golden State Warriors: -233\n",
      "There is a 38.5% chance that the Los Angeles Lakers will defeat the Los Angeles Clippers. Los Angeles Lakers: +160\n"
     ]
    }
   ],
   "source": [
    "makePredictions(date.today())"
   ]
  }
 ],
 "metadata": {
  "kernelspec": {
   "display_name": "Python 3",
   "language": "python",
   "name": "python3"
  },
  "language_info": {
   "codemirror_mode": {
    "name": "ipython",
    "version": 3
   },
   "file_extension": ".py",
   "mimetype": "text/x-python",
   "name": "python",
   "nbconvert_exporter": "python",
   "pygments_lexer": "ipython3",
   "version": "3.10.11"
  }
 },
 "nbformat": 4,
 "nbformat_minor": 2
}
