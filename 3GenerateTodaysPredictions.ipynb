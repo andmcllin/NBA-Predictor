{
 "cells": [
  {
   "cell_type": "code",
   "execution_count": 1,
   "metadata": {},
   "outputs": [],
   "source": [
    "from DailyNBAPredictions import makePredictions\n",
    "from datetime import date"
   ]
  },
  {
   "cell_type": "code",
   "execution_count": 2,
   "metadata": {},
   "outputs": [
    {
     "name": "stdout",
     "output_type": "stream",
     "text": [
      "1/1 [==============================] - 0s 94ms/step\n",
      "Home Win for Detroit Pistons: 39.56% or +153, Away Win for Golden State Warriors: 60.44% or -153\n",
      "Home Win for Indiana Pacers: 65.44% or -189, Away Win for San Antonio Spurs: 34.56% or +189\n",
      "Home Win for Orlando Magic: 52.83% or -112, Away Win for Dallas Mavericks: 47.17% or +112\n",
      "Home Win for Philadelphia 76ers: 87.28% or -686, Away Win for Washington Wizards: 12.72% or +686\n",
      "Home Win for Brooklyn Nets: 72.2% or -260, Away Win for Milwaukee Bucks: 27.8% or +260\n",
      "Home Win for Miami Heat: 64.99% or -186, Away Win for Los Angeles Lakers: 35.01% or +186\n",
      "Home Win for New York Knicks: 28.04% or +257, Away Win for Los Angeles Clippers: 71.96% or -257\n",
      "Home Win for Chicago Bulls: 57.18% or -134, Away Win for Utah Jazz: 42.82% or +134\n",
      "Home Win for Houston Rockets: 47.29% or +111, Away Win for Sacramento Kings: 52.71% or -111\n",
      "Home Win for Minnesota Timberwolves: 37.46% or +167, Away Win for Boston Celtics: 62.54% or -167\n",
      "Home Win for Oklahoma City Thunder: 35.21% or +184, Away Win for Atlanta Hawks: 64.79% or -184\n",
      "Home Win for Denver Nuggets: 76.26% or -321, Away Win for New Orleans Pelicans: 23.74% or +321\n"
     ]
    }
   ],
   "source": [
    "makePredictions(date.today())"
   ]
  }
 ],
 "metadata": {
  "kernelspec": {
   "display_name": "Python 3",
   "language": "python",
   "name": "python3"
  },
  "language_info": {
   "codemirror_mode": {
    "name": "ipython",
    "version": 3
   },
   "file_extension": ".py",
   "mimetype": "text/x-python",
   "name": "python",
   "nbconvert_exporter": "python",
   "pygments_lexer": "ipython3",
   "version": "3.10.11"
  }
 },
 "nbformat": 4,
 "nbformat_minor": 2
}
