{
 "cells": [
  {
   "cell_type": "code",
   "execution_count": 1,
   "metadata": {},
   "outputs": [],
   "source": [
    "from DailyNBAPredictions import makePredictions\n",
    "from datetime import date"
   ]
  },
  {
   "cell_type": "code",
   "execution_count": 2,
   "metadata": {},
   "outputs": [
    {
     "name": "stdout",
     "output_type": "stream",
     "text": [
      "1/1 [==============================] - 0s 86ms/step\n",
      "There is a 69.17% chance that the Philadelphia 76ers will defeat the Toronto Raptors. Philadelphia 76ers: -224\n",
      "There is a 34.83% chance that the New Orleans Pelicans will defeat the Detroit Pistons. New Orleans Pelicans: +187\n",
      "There is a 49.04% chance that the Utah Jazz will defeat the Orlando Magic. Utah Jazz: +104\n",
      "There is a 82.08% chance that the Phoenix Suns will defeat the San Antonio Spurs. Phoenix Suns: -458\n"
     ]
    }
   ],
   "source": [
    "makePredictions(date.today())"
   ]
  }
 ],
 "metadata": {
  "kernelspec": {
   "display_name": "Python 3",
   "language": "python",
   "name": "python3"
  },
  "language_info": {
   "codemirror_mode": {
    "name": "ipython",
    "version": 3
   },
   "file_extension": ".py",
   "mimetype": "text/x-python",
   "name": "python",
   "nbconvert_exporter": "python",
   "pygments_lexer": "ipython3",
   "version": "3.10.11"
  }
 },
 "nbformat": 4,
 "nbformat_minor": 2
}
