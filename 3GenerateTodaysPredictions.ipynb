{
 "cells": [
  {
   "cell_type": "code",
   "execution_count": 1,
   "metadata": {},
   "outputs": [],
   "source": [
    "from DailyNBAPredictions import makePredictions\n",
    "from datetime import date"
   ]
  },
  {
   "cell_type": "code",
   "execution_count": 2,
   "metadata": {},
   "outputs": [
    {
     "name": "stdout",
     "output_type": "stream",
     "text": [
      "1/1 [==============================] - 0s 130ms/step\n",
      "Home Win for Detroit Pistons: 39.24% or +155, Away Win for Philadelphia 76ers: 60.76% or -155\n",
      "Home Win for Washington Wizards: 50.08% or -100, Away Win for Charlotte Hornets: 49.92% or +100\n",
      "Home Win for Boston Celtics: 70.41% or -238, Away Win for Brooklyn Nets: 29.59% or +238\n",
      "Home Win for Houston Rockets: 72.95% or -270, Away Win for New Orleans Pelicans: 27.05% or +270\n",
      "Home Win for Memphis Grizzlies: 66.75% or -201, Away Win for Utah Jazz: 33.25% or +201\n",
      "Home Win for San Antonio Spurs: 38.24% or +162, Away Win for Minnesota Timberwolves: 61.76% or -162\n",
      "Home Win for Dallas Mavericks: 52.93% or -112, Away Win for Los Angeles Clippers: 47.07% or +112\n",
      "Home Win for Phoenix Suns: 60.43% or -153, Away Win for Los Angeles Lakers: 39.57% or +153\n",
      "Home Win for Sacramento Kings: 48.18% or +108, Away Win for Oklahoma City Thunder: 51.82% or -108\n"
     ]
    }
   ],
   "source": [
    "makePredictions(date.today())"
   ]
  }
 ],
 "metadata": {
  "kernelspec": {
   "display_name": "Python 3",
   "language": "python",
   "name": "python3"
  },
  "language_info": {
   "codemirror_mode": {
    "name": "ipython",
    "version": 3
   },
   "file_extension": ".py",
   "mimetype": "text/x-python",
   "name": "python",
   "nbconvert_exporter": "python",
   "pygments_lexer": "ipython3",
   "version": "3.11.4"
  }
 },
 "nbformat": 4,
 "nbformat_minor": 2
}
