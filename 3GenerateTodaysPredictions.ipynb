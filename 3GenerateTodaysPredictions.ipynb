{
 "cells": [
  {
   "cell_type": "code",
   "execution_count": 1,
   "metadata": {},
   "outputs": [],
   "source": [
    "from DailyNBAPredictions import makePredictions\n",
    "from datetime import date"
   ]
  },
  {
   "cell_type": "code",
   "execution_count": 2,
   "metadata": {},
   "outputs": [
    {
     "name": "stdout",
     "output_type": "stream",
     "text": [
      "1/1 [==============================] - 0s 129ms/step\n",
      "Home Win for Detroit Pistons: 43.52% or +130, Away Win for Golden State Warriors: 56.48% or -130\n",
      "Home Win for Indiana Pacers: 67.49% or -208, Away Win for San Antonio Spurs: 32.51% or +208\n",
      "Home Win for Orlando Magic: 62.44% or -166, Away Win for Dallas Mavericks: 37.56% or +166\n",
      "Home Win for Philadelphia 76ers: 77.98% or -354, Away Win for Washington Wizards: 22.02% or +354\n",
      "Home Win for Brooklyn Nets: 73.06% or -271, Away Win for Milwaukee Bucks: 26.94% or +271\n",
      "Home Win for Miami Heat: 53.52% or -115, Away Win for Los Angeles Lakers: 46.48% or +115\n",
      "Home Win for New York Knicks: 33.28% or +200, Away Win for Los Angeles Clippers: 66.72% or -200\n",
      "Home Win for Chicago Bulls: 50.44% or -102, Away Win for Utah Jazz: 49.56% or +102\n",
      "Home Win for Houston Rockets: 56.65% or -131, Away Win for Sacramento Kings: 43.35% or +131\n",
      "Home Win for Minnesota Timberwolves: 35.36% or +183, Away Win for Boston Celtics: 64.64% or -183\n",
      "Home Win for Oklahoma City Thunder: 40.61% or +146, Away Win for Atlanta Hawks: 59.39% or -146\n",
      "Home Win for Denver Nuggets: 78.68% or -369, Away Win for New Orleans Pelicans: 21.32% or +369\n"
     ]
    }
   ],
   "source": [
    "makePredictions(date.today())"
   ]
  }
 ],
 "metadata": {
  "kernelspec": {
   "display_name": "Python 3",
   "language": "python",
   "name": "python3"
  },
  "language_info": {
   "codemirror_mode": {
    "name": "ipython",
    "version": 3
   },
   "file_extension": ".py",
   "mimetype": "text/x-python",
   "name": "python",
   "nbconvert_exporter": "python",
   "pygments_lexer": "ipython3",
   "version": "3.11.4"
  }
 },
 "nbformat": 4,
 "nbformat_minor": 2
}
